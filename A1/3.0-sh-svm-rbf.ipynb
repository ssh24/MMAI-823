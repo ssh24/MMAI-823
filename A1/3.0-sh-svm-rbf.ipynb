{
 "cells": [
  {
   "cell_type": "code",
   "execution_count": 1,
   "metadata": {},
   "outputs": [],
   "source": [
    "import os\n",
    "import pandas as pd\n",
    "import numpy as np\n",
    "import matplotlib as mpl\n",
    "mpl.use('Agg')\n",
    "import matplotlib.pyplot as plt\n",
    "from matplotlib import style\n",
    "style.use(\"ggplot\")\n",
    "from sklearn.model_selection import GridSearchCV\n",
    "from sklearn import svm, metrics\n",
    "import pickle\n",
    "from sklearn.model_selection import train_test_split\n",
    "\n",
    "# environment settings\n",
    "cwd = os.getcwd()\n",
    "data = os.path.join(cwd, 'data', '1.0-ag-data-exploration.csv')\n",
    "\n",
    "# read in data\n",
    "df = pd.read_csv(data)\n",
    "\n",
    "# drop not needed columns\n",
    "df = df.drop('Data Year - Fiscal', axis = 1)\n",
    "df = df.drop('CompanyID', axis = 1)\n",
    "df = df.drop('Return on Equity', axis = 1)\n",
    "\n",
    "min = 0\n",
    "max = len(df)\n",
    "\n",
    "X = np.array(df.iloc[min:, df.columns != \"BK\"])\n",
    "y = df.iloc[min:, df.columns == \"BK\"].values.reshape(-1,)\n",
    "\n",
    "X_train, X_test, y_train, y_test = train_test_split(X, y, test_size=0.20, random_state=123)"
   ]
  },
  {
   "cell_type": "code",
   "execution_count": 177,
   "metadata": {},
   "outputs": [
    {
     "data": {
      "text/html": [
       "<div>\n",
       "<style>\n",
       "    .dataframe thead tr:only-child th {\n",
       "        text-align: right;\n",
       "    }\n",
       "\n",
       "    .dataframe thead th {\n",
       "        text-align: left;\n",
       "    }\n",
       "\n",
       "    .dataframe tbody tr th {\n",
       "        vertical-align: top;\n",
       "    }\n",
       "</style>\n",
       "<table border=\"1\" class=\"dataframe\">\n",
       "  <thead>\n",
       "    <tr style=\"text-align: right;\">\n",
       "      <th></th>\n",
       "      <th>Tobin's Q</th>\n",
       "      <th>EPS</th>\n",
       "      <th>Liquidity</th>\n",
       "      <th>Profitability</th>\n",
       "      <th>Productivity</th>\n",
       "      <th>Leverage Ratio</th>\n",
       "      <th>Asset Turnover</th>\n",
       "      <th>Operational Margin</th>\n",
       "      <th>Market Book Ratio</th>\n",
       "      <th>Assets Growth</th>\n",
       "      <th>Sales Growth</th>\n",
       "      <th>Employee Growth</th>\n",
       "      <th>BK</th>\n",
       "    </tr>\n",
       "  </thead>\n",
       "  <tbody>\n",
       "    <tr>\n",
       "      <th>0</th>\n",
       "      <td>0.98</td>\n",
       "      <td>1.58</td>\n",
       "      <td>0.36</td>\n",
       "      <td>0.18</td>\n",
       "      <td>0.13</td>\n",
       "      <td>1.33</td>\n",
       "      <td>1.77</td>\n",
       "      <td>0.07</td>\n",
       "      <td>2.22</td>\n",
       "      <td>0.126</td>\n",
       "      <td>0.014</td>\n",
       "      <td>0.040</td>\n",
       "      <td>0</td>\n",
       "    </tr>\n",
       "    <tr>\n",
       "      <th>1</th>\n",
       "      <td>0.98</td>\n",
       "      <td>1.41</td>\n",
       "      <td>0.36</td>\n",
       "      <td>0.19</td>\n",
       "      <td>0.12</td>\n",
       "      <td>1.31</td>\n",
       "      <td>1.59</td>\n",
       "      <td>0.07</td>\n",
       "      <td>2.41</td>\n",
       "      <td>0.126</td>\n",
       "      <td>0.014</td>\n",
       "      <td>0.040</td>\n",
       "      <td>0</td>\n",
       "    </tr>\n",
       "    <tr>\n",
       "      <th>2</th>\n",
       "      <td>0.87</td>\n",
       "      <td>0.31</td>\n",
       "      <td>0.32</td>\n",
       "      <td>0.13</td>\n",
       "      <td>0.08</td>\n",
       "      <td>1.03</td>\n",
       "      <td>1.55</td>\n",
       "      <td>0.05</td>\n",
       "      <td>2.56</td>\n",
       "      <td>0.368</td>\n",
       "      <td>0.328</td>\n",
       "      <td>0.567</td>\n",
       "      <td>0</td>\n",
       "    </tr>\n",
       "    <tr>\n",
       "      <th>3</th>\n",
       "      <td>1.13</td>\n",
       "      <td>0.71</td>\n",
       "      <td>0.28</td>\n",
       "      <td>0.14</td>\n",
       "      <td>0.08</td>\n",
       "      <td>0.80</td>\n",
       "      <td>1.39</td>\n",
       "      <td>0.06</td>\n",
       "      <td>5.28</td>\n",
       "      <td>-0.021</td>\n",
       "      <td>-0.119</td>\n",
       "      <td>-0.096</td>\n",
       "      <td>0</td>\n",
       "    </tr>\n",
       "    <tr>\n",
       "      <th>4</th>\n",
       "      <td>1.26</td>\n",
       "      <td>0.75</td>\n",
       "      <td>0.41</td>\n",
       "      <td>0.13</td>\n",
       "      <td>0.08</td>\n",
       "      <td>0.20</td>\n",
       "      <td>1.30</td>\n",
       "      <td>0.06</td>\n",
       "      <td>8.68</td>\n",
       "      <td>0.233</td>\n",
       "      <td>0.147</td>\n",
       "      <td>0.053</td>\n",
       "      <td>0</td>\n",
       "    </tr>\n",
       "  </tbody>\n",
       "</table>\n",
       "</div>"
      ],
      "text/plain": [
       "   Tobin's Q   EPS  Liquidity  Profitability  Productivity  Leverage Ratio  \\\n",
       "0       0.98  1.58       0.36           0.18          0.13            1.33   \n",
       "1       0.98  1.41       0.36           0.19          0.12            1.31   \n",
       "2       0.87  0.31       0.32           0.13          0.08            1.03   \n",
       "3       1.13  0.71       0.28           0.14          0.08            0.80   \n",
       "4       1.26  0.75       0.41           0.13          0.08            0.20   \n",
       "\n",
       "   Asset Turnover  Operational Margin  Market Book Ratio  Assets Growth  \\\n",
       "0            1.77                0.07               2.22          0.126   \n",
       "1            1.59                0.07               2.41          0.126   \n",
       "2            1.55                0.05               2.56          0.368   \n",
       "3            1.39                0.06               5.28         -0.021   \n",
       "4            1.30                0.06               8.68          0.233   \n",
       "\n",
       "   Sales Growth  Employee Growth  BK  \n",
       "0         0.014            0.040   0  \n",
       "1         0.014            0.040   0  \n",
       "2         0.328            0.567   0  \n",
       "3        -0.119           -0.096   0  \n",
       "4         0.147            0.053   0  "
      ]
     },
     "execution_count": 177,
     "metadata": {},
     "output_type": "execute_result"
    }
   ],
   "source": [
    "# get the head\n",
    "df.head()"
   ]
  },
  {
   "cell_type": "code",
   "execution_count": 178,
   "metadata": {},
   "outputs": [
    {
     "data": {
      "text/html": [
       "<div>\n",
       "<style>\n",
       "    .dataframe thead tr:only-child th {\n",
       "        text-align: right;\n",
       "    }\n",
       "\n",
       "    .dataframe thead th {\n",
       "        text-align: left;\n",
       "    }\n",
       "\n",
       "    .dataframe tbody tr th {\n",
       "        vertical-align: top;\n",
       "    }\n",
       "</style>\n",
       "<table border=\"1\" class=\"dataframe\">\n",
       "  <thead>\n",
       "    <tr style=\"text-align: right;\">\n",
       "      <th></th>\n",
       "      <th>Tobin's Q</th>\n",
       "      <th>EPS</th>\n",
       "      <th>Liquidity</th>\n",
       "      <th>Profitability</th>\n",
       "      <th>Productivity</th>\n",
       "      <th>Leverage Ratio</th>\n",
       "      <th>Asset Turnover</th>\n",
       "      <th>Operational Margin</th>\n",
       "      <th>Market Book Ratio</th>\n",
       "      <th>Assets Growth</th>\n",
       "      <th>Sales Growth</th>\n",
       "      <th>Employee Growth</th>\n",
       "      <th>BK</th>\n",
       "    </tr>\n",
       "  </thead>\n",
       "  <tbody>\n",
       "    <tr>\n",
       "      <th>89805</th>\n",
       "      <td>1.521</td>\n",
       "      <td>-1.488</td>\n",
       "      <td>-0.015</td>\n",
       "      <td>-0.759</td>\n",
       "      <td>-0.057</td>\n",
       "      <td>-1042.105</td>\n",
       "      <td>0.174</td>\n",
       "      <td>-0.327</td>\n",
       "      <td>-1.847</td>\n",
       "      <td>-0.073</td>\n",
       "      <td>-0.557</td>\n",
       "      <td>-0.077</td>\n",
       "      <td>0</td>\n",
       "    </tr>\n",
       "    <tr>\n",
       "      <th>89806</th>\n",
       "      <td>1.988</td>\n",
       "      <td>-1.808</td>\n",
       "      <td>0.094</td>\n",
       "      <td>-1.205</td>\n",
       "      <td>-0.121</td>\n",
       "      <td>-4.530</td>\n",
       "      <td>0.216</td>\n",
       "      <td>-0.561</td>\n",
       "      <td>-2.475</td>\n",
       "      <td>-0.202</td>\n",
       "      <td>-0.011</td>\n",
       "      <td>-0.208</td>\n",
       "      <td>0</td>\n",
       "    </tr>\n",
       "    <tr>\n",
       "      <th>89807</th>\n",
       "      <td>0.924</td>\n",
       "      <td>-0.016</td>\n",
       "      <td>0.039</td>\n",
       "      <td>0.000</td>\n",
       "      <td>-0.082</td>\n",
       "      <td>0.745</td>\n",
       "      <td>0.254</td>\n",
       "      <td>-0.324</td>\n",
       "      <td>3274.506</td>\n",
       "      <td>-0.168</td>\n",
       "      <td>-0.020</td>\n",
       "      <td>-0.105</td>\n",
       "      <td>0</td>\n",
       "    </tr>\n",
       "    <tr>\n",
       "      <th>89808</th>\n",
       "      <td>0.788</td>\n",
       "      <td>-0.133</td>\n",
       "      <td>0.054</td>\n",
       "      <td>-0.029</td>\n",
       "      <td>0.001</td>\n",
       "      <td>0.575</td>\n",
       "      <td>0.196</td>\n",
       "      <td>0.005</td>\n",
       "      <td>36.475</td>\n",
       "      <td>0.077</td>\n",
       "      <td>-0.171</td>\n",
       "      <td>-0.059</td>\n",
       "      <td>0</td>\n",
       "    </tr>\n",
       "    <tr>\n",
       "      <th>89809</th>\n",
       "      <td>0.885</td>\n",
       "      <td>-0.648</td>\n",
       "      <td>-0.037</td>\n",
       "      <td>-0.220</td>\n",
       "      <td>-0.145</td>\n",
       "      <td>0.693</td>\n",
       "      <td>0.222</td>\n",
       "      <td>-0.651</td>\n",
       "      <td>55.624</td>\n",
       "      <td>-0.064</td>\n",
       "      <td>0.065</td>\n",
       "      <td>0.063</td>\n",
       "      <td>1</td>\n",
       "    </tr>\n",
       "  </tbody>\n",
       "</table>\n",
       "</div>"
      ],
      "text/plain": [
       "       Tobin's Q    EPS  Liquidity  Profitability  Productivity  \\\n",
       "89805      1.521 -1.488     -0.015         -0.759        -0.057   \n",
       "89806      1.988 -1.808      0.094         -1.205        -0.121   \n",
       "89807      0.924 -0.016      0.039          0.000        -0.082   \n",
       "89808      0.788 -0.133      0.054         -0.029         0.001   \n",
       "89809      0.885 -0.648     -0.037         -0.220        -0.145   \n",
       "\n",
       "       Leverage Ratio  Asset Turnover  Operational Margin  Market Book Ratio  \\\n",
       "89805       -1042.105           0.174              -0.327             -1.847   \n",
       "89806          -4.530           0.216              -0.561             -2.475   \n",
       "89807           0.745           0.254              -0.324           3274.506   \n",
       "89808           0.575           0.196               0.005             36.475   \n",
       "89809           0.693           0.222              -0.651             55.624   \n",
       "\n",
       "       Assets Growth  Sales Growth  Employee Growth  BK  \n",
       "89805         -0.073        -0.557           -0.077   0  \n",
       "89806         -0.202        -0.011           -0.208   0  \n",
       "89807         -0.168        -0.020           -0.105   0  \n",
       "89808          0.077        -0.171           -0.059   0  \n",
       "89809         -0.064         0.065            0.063   1  "
      ]
     },
     "execution_count": 178,
     "metadata": {},
     "output_type": "execute_result"
    }
   ],
   "source": [
    "# get the tail\n",
    "df.tail()"
   ]
  },
  {
   "cell_type": "code",
   "execution_count": 179,
   "metadata": {},
   "outputs": [
    {
     "data": {
      "text/plain": [
       "(89810, 13)"
      ]
     },
     "execution_count": 179,
     "metadata": {},
     "output_type": "execute_result"
    }
   ],
   "source": [
    "df.shape"
   ]
  },
  {
   "cell_type": "code",
   "execution_count": 180,
   "metadata": {},
   "outputs": [
    {
     "data": {
      "text/plain": [
       "Tobin's Q             False\n",
       "EPS                   False\n",
       "Liquidity             False\n",
       "Profitability         False\n",
       "Productivity          False\n",
       "Leverage Ratio        False\n",
       "Asset Turnover        False\n",
       "Operational Margin    False\n",
       "Market Book Ratio     False\n",
       "Assets Growth         False\n",
       "Sales Growth          False\n",
       "Employee Growth       False\n",
       "BK                    False\n",
       "dtype: bool"
      ]
     },
     "execution_count": 180,
     "metadata": {},
     "output_type": "execute_result"
    }
   ],
   "source": [
    "# confirm there is no null\n",
    "df.isnull().any()"
   ]
  },
  {
   "cell_type": "code",
   "execution_count": 181,
   "metadata": {},
   "outputs": [
    {
     "name": "stdout",
     "output_type": "stream",
     "text": [
      "Training data:  [[ 4.22   0.27  -0.19  ...  0.031  0.032  0.024]\n",
      " [ 1.4    2.11   0.23  ...  0.015  0.065 -0.012]\n",
      " [ 1.01   1.25  -0.04  ...  0.803  0.781  0.   ]\n",
      " ...\n",
      " [ 1.32   3.59   0.33  ... -0.038 -0.046 -0.031]\n",
      " [ 1.47  -1.07   0.13  ... -0.097  0.042  0.063]\n",
      " [ 2.14   1.88   0.12  ...  0.173  0.198  0.417]]\n"
     ]
    }
   ],
   "source": [
    "print('Training data: ', X_train)"
   ]
  },
  {
   "cell_type": "code",
   "execution_count": 182,
   "metadata": {},
   "outputs": [
    {
     "name": "stdout",
     "output_type": "stream",
     "text": [
      "Training target:  [0 0 0 ... 0 0 0]\n"
     ]
    }
   ],
   "source": [
    "print('Training target: ', y_train)"
   ]
  },
  {
   "cell_type": "code",
   "execution_count": 183,
   "metadata": {},
   "outputs": [
    {
     "name": "stdout",
     "output_type": "stream",
     "text": [
      "Testing data:  [[ 1.1500e+00  3.5800e+00  1.8000e-01 ...  6.7000e-02  1.4400e-01\n",
      "   0.0000e+00]\n",
      " [ 1.8200e+00  1.5800e+00  2.7000e-01 ...  1.2000e-01  2.0600e-01\n",
      "   6.2000e-02]\n",
      " [ 1.3500e+00 -1.0800e+00  6.0000e-02 ...  3.7000e-02 -5.5000e-02\n",
      "  -1.4600e-01]\n",
      " ...\n",
      " [ 1.8677e+02 -1.1000e-01 -1.3840e+02 ... -8.3000e-01 -5.0500e-01\n",
      "  -9.7200e-01]\n",
      " [ 1.1100e+00 -1.8000e-01 -6.4000e-01 ... -6.3000e-02  9.3000e-01\n",
      "   2.1300e-01]\n",
      " [ 1.9400e+00  2.2000e-01  2.0000e-02 ... -1.0600e-01  2.1200e-01\n",
      "   2.1500e-01]]\n"
     ]
    }
   ],
   "source": [
    "print('Testing data: ', X_test)"
   ]
  },
  {
   "cell_type": "code",
   "execution_count": 184,
   "metadata": {},
   "outputs": [
    {
     "name": "stdout",
     "output_type": "stream",
     "text": [
      "Testing target:  [0 0 0 ... 0 0 0]\n"
     ]
    }
   ],
   "source": [
    "print('Testing target: ', y_test)"
   ]
  },
  {
   "cell_type": "code",
   "execution_count": 198,
   "metadata": {},
   "outputs": [],
   "source": [
    "# read the classifier from the file\n",
    "with open(os.path.join(cwd, 'classifiers', '3.0-sh-svm.pkl'), 'rb') as f:\n",
    "    clf = pickle.load(f)\n",
    "\n",
    "# get the predicted output\n",
    "predicted = clf.predict(X_test)"
   ]
  },
  {
   "cell_type": "code",
   "execution_count": 199,
   "metadata": {},
   "outputs": [
    {
     "name": "stdout",
     "output_type": "stream",
     "text": [
      "[[17854     0]\n",
      " [   97    11]]\n"
     ]
    }
   ],
   "source": [
    "cm = metrics.confusion_matrix(y_test, predicted)\n",
    "print(cm)"
   ]
  },
  {
   "cell_type": "code",
   "execution_count": 200,
   "metadata": {},
   "outputs": [
    {
     "data": {
      "text/html": [
       "<div>\n",
       "<style>\n",
       "    .dataframe thead tr:only-child th {\n",
       "        text-align: right;\n",
       "    }\n",
       "\n",
       "    .dataframe thead th {\n",
       "        text-align: left;\n",
       "    }\n",
       "\n",
       "    .dataframe tbody tr th {\n",
       "        vertical-align: top;\n",
       "    }\n",
       "</style>\n",
       "<table border=\"1\" class=\"dataframe\">\n",
       "  <thead>\n",
       "    <tr style=\"text-align: right;\">\n",
       "      <th>Predicted</th>\n",
       "      <th>0</th>\n",
       "      <th>1</th>\n",
       "      <th>All</th>\n",
       "    </tr>\n",
       "    <tr>\n",
       "      <th>Actual</th>\n",
       "      <th></th>\n",
       "      <th></th>\n",
       "      <th></th>\n",
       "    </tr>\n",
       "  </thead>\n",
       "  <tbody>\n",
       "    <tr>\n",
       "      <th>0</th>\n",
       "      <td>17854</td>\n",
       "      <td>0</td>\n",
       "      <td>17854</td>\n",
       "    </tr>\n",
       "    <tr>\n",
       "      <th>1</th>\n",
       "      <td>97</td>\n",
       "      <td>11</td>\n",
       "      <td>108</td>\n",
       "    </tr>\n",
       "    <tr>\n",
       "      <th>All</th>\n",
       "      <td>17951</td>\n",
       "      <td>11</td>\n",
       "      <td>17962</td>\n",
       "    </tr>\n",
       "  </tbody>\n",
       "</table>\n",
       "</div>"
      ],
      "text/plain": [
       "Predicted      0   1    All\n",
       "Actual                     \n",
       "0          17854   0  17854\n",
       "1             97  11    108\n",
       "All        17951  11  17962"
      ]
     },
     "execution_count": 200,
     "metadata": {},
     "output_type": "execute_result"
    }
   ],
   "source": [
    "pd.crosstab(y_test, predicted, rownames=['Actual'], colnames=['Predicted'], margins=True)"
   ]
  },
  {
   "cell_type": "code",
   "execution_count": 188,
   "metadata": {},
   "outputs": [
    {
     "name": "stdout",
     "output_type": "stream",
     "text": [
      "True positive:  11\n"
     ]
    }
   ],
   "source": [
    "tp = cm[1][1]\n",
    "print('True positive: ', tp)"
   ]
  },
  {
   "cell_type": "code",
   "execution_count": 189,
   "metadata": {},
   "outputs": [
    {
     "name": "stdout",
     "output_type": "stream",
     "text": [
      "False positive:  0\n"
     ]
    }
   ],
   "source": [
    "fp = cm[0][1]\n",
    "print('False positive: ', fp)"
   ]
  },
  {
   "cell_type": "code",
   "execution_count": 190,
   "metadata": {},
   "outputs": [
    {
     "name": "stdout",
     "output_type": "stream",
     "text": [
      "True negative:  17854\n"
     ]
    }
   ],
   "source": [
    "tn = cm[0][0]\n",
    "print('True negative: ', tn)"
   ]
  },
  {
   "cell_type": "code",
   "execution_count": 191,
   "metadata": {},
   "outputs": [
    {
     "name": "stdout",
     "output_type": "stream",
     "text": [
      "False negative:  97\n"
     ]
    }
   ],
   "source": [
    "fn = cm[1][0]\n",
    "print('False negative: ', fn)"
   ]
  },
  {
   "cell_type": "code",
   "execution_count": 192,
   "metadata": {},
   "outputs": [
    {
     "name": "stdout",
     "output_type": "stream",
     "text": [
      "Accuracy:  0.9945997104999443\n"
     ]
    }
   ],
   "source": [
    "accuracy = (tp + tn) / (tp + tn + fp + fn)\n",
    "print('Accuracy: ', accuracy)"
   ]
  },
  {
   "cell_type": "code",
   "execution_count": 193,
   "metadata": {},
   "outputs": [
    {
     "name": "stdout",
     "output_type": "stream",
     "text": [
      "Precision:  1.0\n"
     ]
    }
   ],
   "source": [
    "# how good is it at IDENTIFYING positives\n",
    "precision = tp/(tp+fp)\n",
    "print('Precision: ', precision)"
   ]
  },
  {
   "cell_type": "code",
   "execution_count": 194,
   "metadata": {},
   "outputs": [
    {
     "name": "stdout",
     "output_type": "stream",
     "text": [
      "Sensitivity:  0.10185185185185185\n"
     ]
    }
   ],
   "source": [
    "# how good is the classifier at RETRIEVING positives\n",
    "sensitivity = tp/(tp+fn)\n",
    "print('Sensitivity: ', sensitivity)"
   ]
  },
  {
   "cell_type": "code",
   "execution_count": 195,
   "metadata": {},
   "outputs": [
    {
     "name": "stdout",
     "output_type": "stream",
     "text": [
      "Specificity:  1.0\n"
     ]
    }
   ],
   "source": [
    "# how good is the classifier at RETRIEVING negatives\n",
    "specificity = tn/(tn+fp)\n",
    "print('Specificity: ', specificity)"
   ]
  },
  {
   "cell_type": "code",
   "execution_count": 196,
   "metadata": {},
   "outputs": [
    {
     "name": "stdout",
     "output_type": "stream",
     "text": [
      "F1 Score:  1.0\n"
     ]
    }
   ],
   "source": [
    "f1 = 2 * ((precision * recall) / (precision + recall))\n",
    "print('F1 Score: ', f1)"
   ]
  },
  {
   "cell_type": "code",
   "execution_count": 197,
   "metadata": {},
   "outputs": [
    {
     "name": "stdout",
     "output_type": "stream",
     "text": [
      "Summary:\n"
     ]
    },
    {
     "data": {
      "text/html": [
       "<div>\n",
       "<style>\n",
       "    .dataframe thead tr:only-child th {\n",
       "        text-align: right;\n",
       "    }\n",
       "\n",
       "    .dataframe thead th {\n",
       "        text-align: left;\n",
       "    }\n",
       "\n",
       "    .dataframe tbody tr th {\n",
       "        vertical-align: top;\n",
       "    }\n",
       "</style>\n",
       "<table border=\"1\" class=\"dataframe\">\n",
       "  <thead>\n",
       "    <tr style=\"text-align: right;\">\n",
       "      <th></th>\n",
       "      <th>Classifier</th>\n",
       "      <th>TP</th>\n",
       "      <th>TN</th>\n",
       "      <th>FP</th>\n",
       "      <th>FN</th>\n",
       "      <th>Accuracy</th>\n",
       "      <th>Precision</th>\n",
       "      <th>Sensitivity</th>\n",
       "      <th>Specificity</th>\n",
       "      <th>F1</th>\n",
       "    </tr>\n",
       "  </thead>\n",
       "  <tbody>\n",
       "    <tr>\n",
       "      <th>0</th>\n",
       "      <td>SVM - RBF</td>\n",
       "      <td>11</td>\n",
       "      <td>17854</td>\n",
       "      <td>0</td>\n",
       "      <td>97</td>\n",
       "      <td>0.9946</td>\n",
       "      <td>1.0</td>\n",
       "      <td>0.101852</td>\n",
       "      <td>1.0</td>\n",
       "      <td>1.0</td>\n",
       "    </tr>\n",
       "  </tbody>\n",
       "</table>\n",
       "</div>"
      ],
      "text/plain": [
       "  Classifier  TP     TN FP  FN  Accuracy  Precision  Sensitivity  Specificity  \\\n",
       "0  SVM - RBF  11  17854  0  97    0.9946        1.0     0.101852          1.0   \n",
       "\n",
       "    F1  \n",
       "0  1.0  "
      ]
     },
     "execution_count": 197,
     "metadata": {},
     "output_type": "execute_result"
    }
   ],
   "source": [
    "print(\"Summary:\")\n",
    "col_names =  ['Classifier', 'TP', 'TN', 'FP', 'FN', 'Accuracy', 'Precision', 'Sensitivity', 'Specificity', 'F1']\n",
    "table = pd.DataFrame(columns = col_names)\n",
    "table.loc[0] = ['SVM - RBF', tp, tn, fp, fn, accuracy, precision, sensitivity, specificity, f1]\n",
    "table"
   ]
  },
  {
   "cell_type": "code",
   "execution_count": null,
   "metadata": {},
   "outputs": [],
   "source": []
  }
 ],
 "metadata": {
  "kernelspec": {
   "display_name": "Python 3",
   "language": "python",
   "name": "python3"
  },
  "language_info": {
   "codemirror_mode": {
    "name": "ipython",
    "version": 3
   },
   "file_extension": ".py",
   "mimetype": "text/x-python",
   "name": "python",
   "nbconvert_exporter": "python",
   "pygments_lexer": "ipython3",
   "version": "3.6.3"
  }
 },
 "nbformat": 4,
 "nbformat_minor": 2
}
