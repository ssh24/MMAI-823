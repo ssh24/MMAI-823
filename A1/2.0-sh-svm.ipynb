{
 "cells": [
  {
   "cell_type": "code",
   "execution_count": 2,
   "metadata": {},
   "outputs": [],
   "source": [
    "# import libraries\n",
    "import numpy as np\n",
    "import os\n",
    "import pandas as pd"
   ]
  },
  {
   "cell_type": "code",
   "execution_count": 3,
   "metadata": {},
   "outputs": [],
   "source": [
    "# environment settings\n",
    "cwd = os.getcwd()\n",
    "data = os.path.join(cwd, 'data', 'data.csv')"
   ]
  },
  {
   "cell_type": "code",
   "execution_count": 4,
   "metadata": {},
   "outputs": [],
   "source": [
    "# read in data\n",
    "df = pd.read_csv(data)\n",
    "\n",
    "# fill in nan values with 0\n",
    "df = df.replace(np.nan, 0)\n",
    "\n",
    "# drop the date column: not required\n",
    "df = df.drop('Data Year - Fiscal', axis = 1)"
   ]
  },
  {
   "cell_type": "code",
   "execution_count": 5,
   "metadata": {},
   "outputs": [
    {
     "name": "stdout",
     "output_type": "stream",
     "text": [
      "(92872, 14)\n"
     ]
    }
   ],
   "source": [
    "# get the shape of the data\n",
    "print(df.shape)"
   ]
  },
  {
   "cell_type": "code",
   "execution_count": 6,
   "metadata": {},
   "outputs": [
    {
     "name": "stdout",
     "output_type": "stream",
     "text": [
      "           Tobin's Q            EPS     Liquidity  Profitability  \\\n",
      "count   92872.000000   92872.000000  92872.000000   92872.000000   \n",
      "mean       25.300171     -14.460577     -2.624239     -29.458717   \n",
      "std       901.594073    2195.408189    121.449170     676.331196   \n",
      "min         0.000000 -384000.000000 -25968.520000  -79682.000000   \n",
      "25%         1.120000      -0.140000      0.020000      -0.630000   \n",
      "50%         1.540000       0.330000      0.190000       0.070000   \n",
      "75%         2.580000       1.530000      0.400000       0.310000   \n",
      "max    194537.670000   55339.000000      1.000000     140.580000   \n",
      "\n",
      "       Productivity  Leverage Ratio  Asset Turnover  Operational Margin  \\\n",
      "count  92872.000000    92872.000000    92872.000000        92872.000000   \n",
      "mean      -1.219618        1.344940        1.050811           -7.441862   \n",
      "std       35.837859      253.002671        2.113826          207.953408   \n",
      "min    -5093.000000    -7811.000000      -31.590000       -30175.700000   \n",
      "25%       -0.060000        0.000000        0.380000           -0.020000   \n",
      "50%        0.060000        0.280000        0.820000            0.060000   \n",
      "75%        0.110000        0.820000        1.380000            0.130000   \n",
      "max     1102.000000    75970.380000      276.380000          394.470000   \n",
      "\n",
      "       Return on Equity  Market Book Ratio  Assets Growth  Sales Growth  \\\n",
      "count      92872.000000       9.287200e+04   92872.000000  92872.000000   \n",
      "mean          -2.112200       3.582862e+02       1.200705      1.763011   \n",
      "std          352.581716       2.605564e+04      71.059112    171.104938   \n",
      "min       -88875.140000      -3.151500e+06      -1.000000    -27.431000   \n",
      "25%           -0.080000       1.116000e+01      -0.041000     -0.021000   \n",
      "50%            0.030000       5.817000e+01       0.037000      0.044000   \n",
      "75%            0.070000       2.400150e+02       0.175000      0.187000   \n",
      "max        39500.000000       3.455419e+06   14231.000000  39850.000000   \n",
      "\n",
      "       Employee Growth            BK  \n",
      "count     92872.000000  92872.000000  \n",
      "mean          0.317407      0.006008  \n",
      "std          13.532874      0.077280  \n",
      "min          -1.000000      0.000000  \n",
      "25%          -0.039000      0.000000  \n",
      "50%           0.003000      0.000000  \n",
      "75%           0.116000      0.000000  \n",
      "max        2699.000000      1.000000  \n"
     ]
    }
   ],
   "source": [
    "# describe the data\n",
    "print(df.describe())"
   ]
  },
  {
   "cell_type": "code",
   "execution_count": 7,
   "metadata": {},
   "outputs": [
    {
     "name": "stdout",
     "output_type": "stream",
     "text": [
      "    Tobin's Q   EPS  Liquidity  Profitability  Productivity  Leverage Ratio  \\\n",
      "0        0.98  1.58       0.36           0.18          0.13            1.33   \n",
      "1        0.98  1.41       0.36           0.19          0.12            1.31   \n",
      "2        0.87  0.31       0.32           0.13          0.08            1.03   \n",
      "3        1.13  0.71       0.28           0.14          0.08            0.80   \n",
      "4        1.26  0.75       0.41           0.13          0.08            0.20   \n",
      "5        1.17  1.50       0.37           0.16          0.11            0.34   \n",
      "6        1.60  1.26       0.36           0.16          0.11            0.60   \n",
      "7        1.79  1.46       0.37           0.18          0.12            0.36   \n",
      "8        1.87  1.34       0.37           0.21          0.12            0.48   \n",
      "9        1.92  1.55       0.36           0.22          0.13            0.56   \n",
      "10       1.39  1.60       0.48           0.24          0.12            0.56   \n",
      "11       1.08  0.93       0.50           0.26          0.09            0.44   \n",
      "12       1.02  0.63       0.50           0.26          0.07            0.47   \n",
      "13       1.07  0.02       0.53           0.26          0.04            0.48   \n",
      "14       1.09  0.60       0.57           0.23          0.05            0.61   \n",
      "15       1.11  0.66       0.58           0.24          0.06            0.62   \n",
      "16       1.34  1.00       0.59           0.25          0.07            0.59   \n",
      "17       1.56  1.26       0.59           0.23          0.08            0.44   \n",
      "18       1.64  1.29       0.48           0.22          0.10            0.59   \n",
      "19       1.30  1.52       0.46           0.25          0.11            0.56   \n",
      "\n",
      "    Asset Turnover  Operational Margin  Return on Equity  Market Book Ratio  \\\n",
      "0             1.77                0.07              0.15               2.22   \n",
      "1             1.59                0.07              0.13               2.41   \n",
      "2             1.55                0.05              0.04               2.56   \n",
      "3             1.39                0.06              0.05               5.28   \n",
      "4             1.30                0.06              0.04               8.68   \n",
      "5             1.41                0.08              0.08               7.82   \n",
      "6             1.25                0.09              0.05              20.51   \n",
      "7             1.27                0.10              0.05              25.10   \n",
      "8             1.22                0.10              0.05              42.05   \n",
      "9             1.14                0.11              0.05              46.68   \n",
      "10            1.15                0.11              0.08              28.99   \n",
      "11            1.23                0.07              0.07              18.41   \n",
      "12            1.07                0.06              0.05              16.54   \n",
      "13            1.05                0.04              0.00              18.04   \n",
      "14            0.98                0.05              0.04              19.19   \n",
      "15            1.06                0.05              0.04              19.71   \n",
      "16            1.15                0.06              0.05              27.67   \n",
      "17            1.11                0.07              0.04              38.15   \n",
      "18            1.17                0.08              0.05              67.45   \n",
      "19            1.26                0.08              0.08              45.42   \n",
      "\n",
      "    Assets Growth  Sales Growth  Employee Growth  BK  \n",
      "0           0.000         0.000            0.000   0  \n",
      "1           0.126         0.014            0.040   0  \n",
      "2           0.368         0.328            0.567   0  \n",
      "3          -0.021        -0.119           -0.096   0  \n",
      "4           0.233         0.147            0.053   0  \n",
      "5           0.132         0.232            0.077   0  \n",
      "6           0.276         0.133            0.189   0  \n",
      "7           0.186         0.202            0.017   0  \n",
      "8           0.212         0.166            0.099   0  \n",
      "9           0.251         0.169            0.276   0  \n",
      "10          0.090         0.095           -0.043   0  \n",
      "11         -0.022         0.049           -0.163   0  \n",
      "12          0.041        -0.094           -0.096   0  \n",
      "13         -0.076        -0.094           -0.033   0  \n",
      "14          0.144         0.065            0.045   0  \n",
      "15          0.020         0.107            0.043   0  \n",
      "16          0.028         0.119            0.103   0  \n",
      "17          0.210         0.167           -0.019   0  \n",
      "18          0.266         0.327            0.286   0  \n",
      "19          0.084         0.174            0.074   0  \n"
     ]
    }
   ],
   "source": [
    "# get the first 20 rows of the data\n",
    "print(df.head(20))"
   ]
  },
  {
   "cell_type": "code",
   "execution_count": 8,
   "metadata": {},
   "outputs": [
    {
     "name": "stdout",
     "output_type": "stream",
     "text": [
      "                    Tobin's Q       EPS  Liquidity  Profitability  \\\n",
      "Tobin's Q            1.000000  0.000177  -0.214069      -0.158080   \n",
      "EPS                  0.000177  1.000000  -0.000129      -0.000281   \n",
      "Liquidity           -0.214069 -0.000129   1.000000       0.470623   \n",
      "Profitability       -0.158080 -0.000281   0.470623       1.000000   \n",
      "Productivity        -0.193209 -0.000211   0.226977       0.434537   \n",
      "Leverage Ratio      -0.000180  0.000025   0.000147       0.000279   \n",
      "Asset Turnover       0.002268  0.000962  -0.035394      -0.039363   \n",
      "Operational Margin  -0.000615 -0.000211   0.002599       0.006070   \n",
      "Return on Equity    -0.078320  0.248225   0.582317       0.106382   \n",
      "Market Book Ratio   -0.024461  0.000107   0.001389      -0.003999   \n",
      "Assets Growth       -0.000284  0.000070   0.000485       0.000836   \n",
      "Sales Growth        -0.000234  0.000067   0.000248       0.000446   \n",
      "Employee Growth     -0.000658  0.000171   0.000810       0.001314   \n",
      "BK                  -0.001907 -0.007200   0.001189       0.002444   \n",
      "\n",
      "                    Productivity  Leverage Ratio  Asset Turnover  \\\n",
      "Tobin's Q              -0.193209       -0.000180        0.002268   \n",
      "EPS                    -0.000211        0.000025        0.000962   \n",
      "Liquidity               0.226977        0.000147       -0.035394   \n",
      "Profitability           0.434537        0.000279       -0.039363   \n",
      "Productivity            1.000000        0.000225       -0.021562   \n",
      "Leverage Ratio          0.000225        1.000000       -0.001195   \n",
      "Asset Turnover         -0.021562       -0.001195        1.000000   \n",
      "Operational Margin      0.014880        0.000279        0.017205   \n",
      "Return on Equity        0.001009       -0.000012       -0.005027   \n",
      "Market Book Ratio       0.005940        0.030030       -0.005127   \n",
      "Assets Growth           0.000491       -0.000089       -0.003900   \n",
      "Sales Growth            0.000298        0.000101        0.000030   \n",
      "Employee Growth         0.001038       -0.000056       -0.002960   \n",
      "BK                      0.001339       -0.000149        0.015290   \n",
      "\n",
      "                    Operational Margin  Return on Equity  Market Book Ratio  \\\n",
      "Tobin's Q                    -0.000615         -0.078320          -0.024461   \n",
      "EPS                          -0.000211          0.248225           0.000107   \n",
      "Liquidity                     0.002599          0.582317           0.001389   \n",
      "Profitability                 0.006070          0.106382          -0.003999   \n",
      "Productivity                  0.014880          0.001009           0.005940   \n",
      "Leverage Ratio                0.000279         -0.000012           0.030030   \n",
      "Asset Turnover                0.017205         -0.005027          -0.005127   \n",
      "Operational Margin            1.000000          0.001935           0.004989   \n",
      "Return on Equity              0.001935          1.000000           0.000084   \n",
      "Market Book Ratio             0.004989          0.000084           1.000000   \n",
      "Assets Growth                -0.000780          0.000105          -0.000491   \n",
      "Sales Growth                  0.000376          0.000057          -0.000696   \n",
      "Employee Growth               0.000113          0.000147           0.000188   \n",
      "BK                            0.001642         -0.006503          -0.000892   \n",
      "\n",
      "                    Assets Growth  Sales Growth  Employee Growth        BK  \n",
      "Tobin's Q               -0.000284     -0.000234        -0.000658 -0.001907  \n",
      "EPS                      0.000070      0.000067         0.000171 -0.007200  \n",
      "Liquidity                0.000485      0.000248         0.000810  0.001189  \n",
      "Profitability            0.000836      0.000446         0.001314  0.002444  \n",
      "Productivity             0.000491      0.000298         0.001038  0.001339  \n",
      "Leverage Ratio          -0.000089      0.000101        -0.000056 -0.000149  \n",
      "Asset Turnover          -0.003900      0.000030        -0.002960  0.015290  \n",
      "Operational Margin      -0.000780      0.000376         0.000113  0.001642  \n",
      "Return on Equity         0.000105      0.000057         0.000147 -0.006503  \n",
      "Market Book Ratio       -0.000491     -0.000696         0.000188 -0.000892  \n",
      "Assets Growth            1.000000      0.073822         0.012925 -0.001291  \n",
      "Sales Growth             0.073822      1.000000         0.088363 -0.000125  \n",
      "Employee Growth          0.012925      0.088363         1.000000  0.001271  \n",
      "BK                      -0.001291     -0.000125         0.001271  1.000000  \n"
     ]
    }
   ],
   "source": [
    "# get the correlation between each variables\n",
    "print(df.corr())"
   ]
  },
  {
   "cell_type": "code",
   "execution_count": 9,
   "metadata": {},
   "outputs": [],
   "source": [
    "# write the cleansed data into csv\n",
    "df.to_csv(os.path.join(cwd, 'data', 'sh-cleansed.csv'))"
   ]
  }
 ],
 "metadata": {
  "kernelspec": {
   "display_name": "Python 2",
   "language": "python",
   "name": "python2"
  },
  "language_info": {
   "codemirror_mode": {
    "name": "ipython",
    "version": 2
   },
   "file_extension": ".py",
   "mimetype": "text/x-python",
   "name": "python",
   "nbconvert_exporter": "python",
   "pygments_lexer": "ipython2",
   "version": "2.7.10"
  }
 },
 "nbformat": 4,
 "nbformat_minor": 2
}
