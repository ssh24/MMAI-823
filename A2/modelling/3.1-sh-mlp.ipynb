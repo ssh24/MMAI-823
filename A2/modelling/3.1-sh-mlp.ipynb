{
 "cells": [
  {
   "cell_type": "code",
   "execution_count": 3,
   "metadata": {},
   "outputs": [],
   "source": [
    "# import standard libraries\n",
    "import numpy as np\n",
    "import os\n",
    "import pandas as pd\n",
    "\n",
    "# import required libraries\n",
    "from sklearn import model_selection, neural_network, metrics"
   ]
  },
  {
   "cell_type": "code",
   "execution_count": 4,
   "metadata": {},
   "outputs": [],
   "source": [
    "# environment settings\n",
    "os.chdir(\"../data\")\n",
    "df_train = pd.read_csv('2.0-sh-train-data.csv')\n",
    "df_test = pd.read_csv('2.0-sh-test-data.csv')"
   ]
  },
  {
   "cell_type": "code",
   "execution_count": 5,
   "metadata": {},
   "outputs": [
    {
     "data": {
      "text/html": [
       "<div>\n",
       "<style>\n",
       "    .dataframe thead tr:only-child th {\n",
       "        text-align: right;\n",
       "    }\n",
       "\n",
       "    .dataframe thead th {\n",
       "        text-align: left;\n",
       "    }\n",
       "\n",
       "    .dataframe tbody tr th {\n",
       "        vertical-align: top;\n",
       "    }\n",
       "</style>\n",
       "<table border=\"1\" class=\"dataframe\">\n",
       "  <thead>\n",
       "    <tr style=\"text-align: right;\">\n",
       "      <th></th>\n",
       "      <th>eps</th>\n",
       "      <th>liquidity</th>\n",
       "      <th>profitability</th>\n",
       "      <th>productivity</th>\n",
       "      <th>leverageRatio</th>\n",
       "      <th>marketBookRatio</th>\n",
       "      <th>tobinsQ</th>\n",
       "      <th>bUmd</th>\n",
       "      <th>excessReturnFromRiskModel</th>\n",
       "      <th>bHml</th>\n",
       "      <th>alpha</th>\n",
       "      <th>bSmb</th>\n",
       "      <th>bMkt</th>\n",
       "      <th>totalVolatility</th>\n",
       "      <th>outputReturn</th>\n",
       "    </tr>\n",
       "  </thead>\n",
       "  <tbody>\n",
       "    <tr>\n",
       "      <th>0</th>\n",
       "      <td>-0.132617</td>\n",
       "      <td>-1.38611</td>\n",
       "      <td>-0.302013</td>\n",
       "      <td>-0.470921</td>\n",
       "      <td>0.021371</td>\n",
       "      <td>-0.135922</td>\n",
       "      <td>-0.378154</td>\n",
       "      <td>-0.493098</td>\n",
       "      <td>0.569098</td>\n",
       "      <td>-0.822272</td>\n",
       "      <td>-0.425148</td>\n",
       "      <td>-0.137759</td>\n",
       "      <td>-0.696877</td>\n",
       "      <td>-0.519608</td>\n",
       "      <td>-1.9868</td>\n",
       "    </tr>\n",
       "    <tr>\n",
       "      <th>1</th>\n",
       "      <td>-0.132617</td>\n",
       "      <td>-1.38611</td>\n",
       "      <td>-0.302013</td>\n",
       "      <td>-0.470921</td>\n",
       "      <td>0.021371</td>\n",
       "      <td>-0.135922</td>\n",
       "      <td>-0.378154</td>\n",
       "      <td>-0.425430</td>\n",
       "      <td>0.487661</td>\n",
       "      <td>-0.749793</td>\n",
       "      <td>-0.279870</td>\n",
       "      <td>-0.203535</td>\n",
       "      <td>-0.688845</td>\n",
       "      <td>-0.564741</td>\n",
       "      <td>8.7838</td>\n",
       "    </tr>\n",
       "    <tr>\n",
       "      <th>2</th>\n",
       "      <td>-0.132617</td>\n",
       "      <td>-1.38611</td>\n",
       "      <td>-0.302013</td>\n",
       "      <td>-0.470921</td>\n",
       "      <td>0.021371</td>\n",
       "      <td>-0.135922</td>\n",
       "      <td>-0.378154</td>\n",
       "      <td>-0.416329</td>\n",
       "      <td>-0.251880</td>\n",
       "      <td>-0.737266</td>\n",
       "      <td>-0.231444</td>\n",
       "      <td>-0.235516</td>\n",
       "      <td>-0.693531</td>\n",
       "      <td>-0.576062</td>\n",
       "      <td>8.1988</td>\n",
       "    </tr>\n",
       "    <tr>\n",
       "      <th>3</th>\n",
       "      <td>-0.132617</td>\n",
       "      <td>-1.38611</td>\n",
       "      <td>-0.302013</td>\n",
       "      <td>-0.470921</td>\n",
       "      <td>0.021371</td>\n",
       "      <td>-0.135922</td>\n",
       "      <td>-0.378154</td>\n",
       "      <td>-0.378340</td>\n",
       "      <td>-0.846599</td>\n",
       "      <td>-0.715567</td>\n",
       "      <td>-0.296012</td>\n",
       "      <td>-0.240132</td>\n",
       "      <td>-0.661736</td>\n",
       "      <td>-0.568825</td>\n",
       "      <td>8.6207</td>\n",
       "    </tr>\n",
       "    <tr>\n",
       "      <th>4</th>\n",
       "      <td>-0.132617</td>\n",
       "      <td>-1.38611</td>\n",
       "      <td>-0.302013</td>\n",
       "      <td>-0.470921</td>\n",
       "      <td>0.021371</td>\n",
       "      <td>-0.135922</td>\n",
       "      <td>-0.378154</td>\n",
       "      <td>-0.287721</td>\n",
       "      <td>-1.645899</td>\n",
       "      <td>-0.678657</td>\n",
       "      <td>-0.376722</td>\n",
       "      <td>-0.243759</td>\n",
       "      <td>-0.689515</td>\n",
       "      <td>-0.569304</td>\n",
       "      <td>1.0582</td>\n",
       "    </tr>\n",
       "  </tbody>\n",
       "</table>\n",
       "</div>"
      ],
      "text/plain": [
       "        eps  liquidity  profitability  productivity  leverageRatio  \\\n",
       "0 -0.132617   -1.38611      -0.302013     -0.470921       0.021371   \n",
       "1 -0.132617   -1.38611      -0.302013     -0.470921       0.021371   \n",
       "2 -0.132617   -1.38611      -0.302013     -0.470921       0.021371   \n",
       "3 -0.132617   -1.38611      -0.302013     -0.470921       0.021371   \n",
       "4 -0.132617   -1.38611      -0.302013     -0.470921       0.021371   \n",
       "\n",
       "   marketBookRatio   tobinsQ      bUmd  excessReturnFromRiskModel      bHml  \\\n",
       "0        -0.135922 -0.378154 -0.493098                   0.569098 -0.822272   \n",
       "1        -0.135922 -0.378154 -0.425430                   0.487661 -0.749793   \n",
       "2        -0.135922 -0.378154 -0.416329                  -0.251880 -0.737266   \n",
       "3        -0.135922 -0.378154 -0.378340                  -0.846599 -0.715567   \n",
       "4        -0.135922 -0.378154 -0.287721                  -1.645899 -0.678657   \n",
       "\n",
       "      alpha      bSmb      bMkt  totalVolatility  outputReturn  \n",
       "0 -0.425148 -0.137759 -0.696877        -0.519608       -1.9868  \n",
       "1 -0.279870 -0.203535 -0.688845        -0.564741        8.7838  \n",
       "2 -0.231444 -0.235516 -0.693531        -0.576062        8.1988  \n",
       "3 -0.296012 -0.240132 -0.661736        -0.568825        8.6207  \n",
       "4 -0.376722 -0.243759 -0.689515        -0.569304        1.0582  "
      ]
     },
     "execution_count": 5,
     "metadata": {},
     "output_type": "execute_result"
    }
   ],
   "source": [
    "# get the head of the train data\n",
    "df_train.head()"
   ]
  },
  {
   "cell_type": "code",
   "execution_count": 6,
   "metadata": {},
   "outputs": [
    {
     "data": {
      "text/html": [
       "<div>\n",
       "<style>\n",
       "    .dataframe thead tr:only-child th {\n",
       "        text-align: right;\n",
       "    }\n",
       "\n",
       "    .dataframe thead th {\n",
       "        text-align: left;\n",
       "    }\n",
       "\n",
       "    .dataframe tbody tr th {\n",
       "        vertical-align: top;\n",
       "    }\n",
       "</style>\n",
       "<table border=\"1\" class=\"dataframe\">\n",
       "  <thead>\n",
       "    <tr style=\"text-align: right;\">\n",
       "      <th></th>\n",
       "      <th>eps</th>\n",
       "      <th>liquidity</th>\n",
       "      <th>profitability</th>\n",
       "      <th>productivity</th>\n",
       "      <th>leverageRatio</th>\n",
       "      <th>marketBookRatio</th>\n",
       "      <th>tobinsQ</th>\n",
       "      <th>bUmd</th>\n",
       "      <th>excessReturnFromRiskModel</th>\n",
       "      <th>bHml</th>\n",
       "      <th>alpha</th>\n",
       "      <th>bSmb</th>\n",
       "      <th>bMkt</th>\n",
       "      <th>totalVolatility</th>\n",
       "      <th>outputReturn</th>\n",
       "    </tr>\n",
       "  </thead>\n",
       "  <tbody>\n",
       "    <tr>\n",
       "      <th>0</th>\n",
       "      <td>0.01303</td>\n",
       "      <td>1.918967</td>\n",
       "      <td>0.096819</td>\n",
       "      <td>0.277844</td>\n",
       "      <td>-0.030231</td>\n",
       "      <td>0.841679</td>\n",
       "      <td>1.277414</td>\n",
       "      <td>-0.891980</td>\n",
       "      <td>0.028556</td>\n",
       "      <td>-2.531554</td>\n",
       "      <td>2.399696</td>\n",
       "      <td>-0.025824</td>\n",
       "      <td>0.475835</td>\n",
       "      <td>1.017043</td>\n",
       "      <td>1.0490</td>\n",
       "    </tr>\n",
       "    <tr>\n",
       "      <th>1</th>\n",
       "      <td>0.01303</td>\n",
       "      <td>1.918967</td>\n",
       "      <td>0.096819</td>\n",
       "      <td>0.277844</td>\n",
       "      <td>-0.030231</td>\n",
       "      <td>0.841679</td>\n",
       "      <td>1.277414</td>\n",
       "      <td>-0.850826</td>\n",
       "      <td>-0.957059</td>\n",
       "      <td>-2.513881</td>\n",
       "      <td>2.415838</td>\n",
       "      <td>-0.016427</td>\n",
       "      <td>0.498593</td>\n",
       "      <td>1.011446</td>\n",
       "      <td>-1.3064</td>\n",
       "    </tr>\n",
       "    <tr>\n",
       "      <th>2</th>\n",
       "      <td>0.01303</td>\n",
       "      <td>1.918967</td>\n",
       "      <td>0.096819</td>\n",
       "      <td>0.277844</td>\n",
       "      <td>-0.030231</td>\n",
       "      <td>0.841679</td>\n",
       "      <td>1.277414</td>\n",
       "      <td>-0.843703</td>\n",
       "      <td>-1.070860</td>\n",
       "      <td>-2.509631</td>\n",
       "      <td>2.383555</td>\n",
       "      <td>-0.044287</td>\n",
       "      <td>0.493907</td>\n",
       "      <td>1.009428</td>\n",
       "      <td>9.8097</td>\n",
       "    </tr>\n",
       "    <tr>\n",
       "      <th>3</th>\n",
       "      <td>0.01303</td>\n",
       "      <td>1.918967</td>\n",
       "      <td>0.096819</td>\n",
       "      <td>0.277844</td>\n",
       "      <td>-0.030231</td>\n",
       "      <td>0.841679</td>\n",
       "      <td>1.277414</td>\n",
       "      <td>-0.838163</td>\n",
       "      <td>1.294803</td>\n",
       "      <td>-2.470931</td>\n",
       "      <td>2.448122</td>\n",
       "      <td>-0.045441</td>\n",
       "      <td>0.511311</td>\n",
       "      <td>1.011269</td>\n",
       "      <td>7.4158</td>\n",
       "    </tr>\n",
       "    <tr>\n",
       "      <th>4</th>\n",
       "      <td>0.01303</td>\n",
       "      <td>1.918967</td>\n",
       "      <td>0.096819</td>\n",
       "      <td>0.277844</td>\n",
       "      <td>-0.030231</td>\n",
       "      <td>0.841679</td>\n",
       "      <td>1.277414</td>\n",
       "      <td>-0.718261</td>\n",
       "      <td>-0.877508</td>\n",
       "      <td>-2.487709</td>\n",
       "      <td>2.464264</td>\n",
       "      <td>-0.082203</td>\n",
       "      <td>0.626440</td>\n",
       "      <td>1.006756</td>\n",
       "      <td>21.4339</td>\n",
       "    </tr>\n",
       "  </tbody>\n",
       "</table>\n",
       "</div>"
      ],
      "text/plain": [
       "       eps  liquidity  profitability  productivity  leverageRatio  \\\n",
       "0  0.01303   1.918967       0.096819      0.277844      -0.030231   \n",
       "1  0.01303   1.918967       0.096819      0.277844      -0.030231   \n",
       "2  0.01303   1.918967       0.096819      0.277844      -0.030231   \n",
       "3  0.01303   1.918967       0.096819      0.277844      -0.030231   \n",
       "4  0.01303   1.918967       0.096819      0.277844      -0.030231   \n",
       "\n",
       "   marketBookRatio   tobinsQ      bUmd  excessReturnFromRiskModel      bHml  \\\n",
       "0         0.841679  1.277414 -0.891980                   0.028556 -2.531554   \n",
       "1         0.841679  1.277414 -0.850826                  -0.957059 -2.513881   \n",
       "2         0.841679  1.277414 -0.843703                  -1.070860 -2.509631   \n",
       "3         0.841679  1.277414 -0.838163                   1.294803 -2.470931   \n",
       "4         0.841679  1.277414 -0.718261                  -0.877508 -2.487709   \n",
       "\n",
       "      alpha      bSmb      bMkt  totalVolatility  outputReturn  \n",
       "0  2.399696 -0.025824  0.475835         1.017043        1.0490  \n",
       "1  2.415838 -0.016427  0.498593         1.011446       -1.3064  \n",
       "2  2.383555 -0.044287  0.493907         1.009428        9.8097  \n",
       "3  2.448122 -0.045441  0.511311         1.011269        7.4158  \n",
       "4  2.464264 -0.082203  0.626440         1.006756       21.4339  "
      ]
     },
     "execution_count": 6,
     "metadata": {},
     "output_type": "execute_result"
    }
   ],
   "source": [
    "# get the head of the test data\n",
    "df_test.head()"
   ]
  },
  {
   "cell_type": "code",
   "execution_count": 7,
   "metadata": {},
   "outputs": [],
   "source": [
    "# set the X feature and y target for train\n",
    "# df_train = df_train.head(5000)\n",
    "# df_test = df_test.head(5000)\n",
    "X_train = np.array(df_train.iloc[:, df_train.columns != \"outputReturn\"])\n",
    "y_train = df_train.iloc[:, df_train.columns == \"outputReturn\"].values.reshape(-1,)"
   ]
  },
  {
   "cell_type": "code",
   "execution_count": 8,
   "metadata": {},
   "outputs": [
    {
     "data": {
      "text/plain": [
       "(94729, 14)"
      ]
     },
     "execution_count": 8,
     "metadata": {},
     "output_type": "execute_result"
    }
   ],
   "source": [
    "# print out the shape of X train\n",
    "X_train.shape"
   ]
  },
  {
   "cell_type": "code",
   "execution_count": 9,
   "metadata": {},
   "outputs": [
    {
     "data": {
      "text/plain": [
       "(94729,)"
      ]
     },
     "execution_count": 9,
     "metadata": {},
     "output_type": "execute_result"
    }
   ],
   "source": [
    "# print out the shape of y train\n",
    "y_train.shape"
   ]
  },
  {
   "cell_type": "code",
   "execution_count": 10,
   "metadata": {},
   "outputs": [],
   "source": [
    "# set the X feature and y target for test\n",
    "X_test = np.array(df_test.iloc[:, df_test.columns != \"outputReturn\"])\n",
    "y_test = df_test.iloc[:, df_test.columns == \"outputReturn\"].values.reshape(-1,)"
   ]
  },
  {
   "cell_type": "code",
   "execution_count": 11,
   "metadata": {},
   "outputs": [
    {
     "data": {
      "text/plain": [
       "(26841, 14)"
      ]
     },
     "execution_count": 11,
     "metadata": {},
     "output_type": "execute_result"
    }
   ],
   "source": [
    "# print out the shape of X test\n",
    "X_test.shape"
   ]
  },
  {
   "cell_type": "code",
   "execution_count": 12,
   "metadata": {},
   "outputs": [
    {
     "data": {
      "text/plain": [
       "(26841,)"
      ]
     },
     "execution_count": 12,
     "metadata": {},
     "output_type": "execute_result"
    }
   ],
   "source": [
    "# print out the shape of y test\n",
    "y_test.shape"
   ]
  },
  {
   "cell_type": "code",
   "execution_count": 13,
   "metadata": {},
   "outputs": [],
   "source": [
    "# parameters\n",
    "hidden_layer_sizes = [(50,), (50, 50), (100,), (100, 100)]\n",
    "activation = ['identity', 'logistic', 'tanh', 'relu']\n",
    "learning_rate = ['constant', 'invscaling', 'adaptive']\n",
    "learning_rate_init = [0.001, 0.01, 0.1, 0.2, 0.3]\n",
    "max_iter = [100, 200, 400, 800]\n",
    "\n",
    "parameters = dict(hidden_layer_sizes=hidden_layer_sizes, \n",
    "                  activation=activation, \n",
    "                  learning_rate=learning_rate, \n",
    "                  learning_rate_init=learning_rate_init, \n",
    "                  max_iter=max_iter)"
   ]
  },
  {
   "cell_type": "code",
   "execution_count": 14,
   "metadata": {},
   "outputs": [],
   "source": [
    "# reg = neural_network.MLPRegressor(hidden_layer_sizes=(50,50), activation='tanh', learning_rate='invscaling', learning_rate_init=0.1, max_iter=200, verbose=True)\n",
    "reg = model_selection.GridSearchCV(estimator=neural_network.MLPRegressor(), param_grid=parameters)"
   ]
  },
  {
   "cell_type": "code",
   "execution_count": null,
   "metadata": {},
   "outputs": [
    {
     "name": "stderr",
     "output_type": "stream",
     "text": [
      "/opt/python/anaconda3/lib/python3.6/site-packages/sklearn/neural_network/multilayer_perceptron.py:564: ConvergenceWarning: Stochastic Optimizer: Maximum iterations (100) reached and the optimization hasn't converged yet.\n",
      "  % self.max_iter, ConvergenceWarning)\n",
      "/opt/python/anaconda3/lib/python3.6/site-packages/sklearn/neural_network/multilayer_perceptron.py:564: ConvergenceWarning: Stochastic Optimizer: Maximum iterations (100) reached and the optimization hasn't converged yet.\n",
      "  % self.max_iter, ConvergenceWarning)\n",
      "/opt/python/anaconda3/lib/python3.6/site-packages/sklearn/neural_network/multilayer_perceptron.py:564: ConvergenceWarning: Stochastic Optimizer: Maximum iterations (100) reached and the optimization hasn't converged yet.\n",
      "  % self.max_iter, ConvergenceWarning)\n",
      "/opt/python/anaconda3/lib/python3.6/site-packages/sklearn/neural_network/multilayer_perceptron.py:564: ConvergenceWarning: Stochastic Optimizer: Maximum iterations (100) reached and the optimization hasn't converged yet.\n",
      "  % self.max_iter, ConvergenceWarning)\n"
     ]
    }
   ],
   "source": [
    "reg.fit(X_train, y_train)"
   ]
  },
  {
   "cell_type": "code",
   "execution_count": null,
   "metadata": {},
   "outputs": [],
   "source": [
    "predicted = reg.predict(X_test)"
   ]
  },
  {
   "cell_type": "code",
   "execution_count": null,
   "metadata": {},
   "outputs": [],
   "source": [
    "predicted"
   ]
  },
  {
   "cell_type": "code",
   "execution_count": null,
   "metadata": {},
   "outputs": [],
   "source": [
    "y_test"
   ]
  },
  {
   "cell_type": "code",
   "execution_count": null,
   "metadata": {},
   "outputs": [],
   "source": [
    "reg.best_params_"
   ]
  },
  {
   "cell_type": "code",
   "execution_count": null,
   "metadata": {},
   "outputs": [],
   "source": [
    "metrics.mean_absolute_error(y_test, predicted)"
   ]
  },
  {
   "cell_type": "code",
   "execution_count": null,
   "metadata": {},
   "outputs": [],
   "source": [
    "metrics.mean_squared_error(y_test, predicted)"
   ]
  },
  {
   "cell_type": "code",
   "execution_count": null,
   "metadata": {},
   "outputs": [],
   "source": [
    "metrics.median_absolute_error(y_test, predicted)"
   ]
  },
  {
   "cell_type": "code",
   "execution_count": null,
   "metadata": {},
   "outputs": [],
   "source": [
    "metrics.r2_score(y_test, predicted)"
   ]
  },
  {
   "cell_type": "code",
   "execution_count": null,
   "metadata": {},
   "outputs": [],
   "source": [
    "col_names =  ['Activation Function', 'Hidden Layers Size', 'Learning Rate', 'Initial Learning Rate', 'Maximum Iteration', 'Mean Absolute Error', 'Mean Squared Error', 'Median Absolute Error', 'R2 Score']\n",
    "table = pd.DataFrame(columns = col_names)\n",
    "table.loc[0] = [reg.best_params_['activation'], reg.best_params_['hidden_layer_sizes'], reg.best_params_['learning_rate'], reg.best_params_['learning_rate_init'], reg.best_params_['max_iter'], metrics.mean_absolute_error(y_test, predicted), metrics.mean_squared_error(y_test, predicted), metrics.median_absolute_error(y_test, predicted), metrics.r2_score(y_test, predicted)]\n",
    "table"
   ]
  },
  {
   "cell_type": "code",
   "execution_count": null,
   "metadata": {},
   "outputs": [],
   "source": [
    "table.to_csv('model-output-1.csv', index=False)"
   ]
  }
 ],
 "metadata": {
  "kernelspec": {
   "display_name": "Python 3",
   "language": "python",
   "name": "python3"
  },
  "language_info": {
   "codemirror_mode": {
    "name": "ipython",
    "version": 3
   },
   "file_extension": ".py",
   "mimetype": "text/x-python",
   "name": "python",
   "nbconvert_exporter": "python",
   "pygments_lexer": "ipython3",
   "version": "3.6.3"
  }
 },
 "nbformat": 4,
 "nbformat_minor": 2
}
